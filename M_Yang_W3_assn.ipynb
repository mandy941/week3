{
 "cells": [
  {
   "cell_type": "markdown",
   "metadata": {},
   "source": [
    "Print 7 lists "
   ]
  },
  {
   "cell_type": "code",
   "execution_count": 4,
   "metadata": {},
   "outputs": [
    {
     "name": "stdout",
     "output_type": "stream",
     "text": [
      "['high', 'high', 'high', 'high', 'vhigh', 'low', 'med', 'low', 'vhigh', 'vhigh', 'low', 'vhigh', 'high', 'low', 'high', 'vhigh', 'med', 'high', 'low', 'low', 'med', 'low', 'vhigh', 'med', 'low', 'vhigh', 'med', 'high', 'low', 'med', 'high', 'high', 'low', 'vhigh', 'high']\n",
      "['high', 'high', 'high', 'low', 'low', 'high', 'med', 'low', 'low', 'high', 'low', 'low', 'low', 'vhigh', 'low', 'high', 'med', 'low', 'low', 'low', 'high', 'low', 'high', 'vhigh', 'vhigh', 'low', 'vhigh', 'high', 'high', 'high', 'low', 'vhigh', 'low', 'vhigh', 'low']\n",
      "['2', '4', '4', '2', '3', '2', '4', '3', '2', '4', '2', '4', '2', '3', '5more', '2', '2', '5more', '3', '2', '4', '2', '5more', '2', '4', '3', '3', '3', '5more', '5more', '3', '5more', '5more', '4', '3']\n",
      "['4', 'more', 'more', 'more', '2', '2', 'more', '2', '2', '4', '2', 'more', '4', 'more', '2', 'more', '2', '4', 'more', '2', '2', '2', '4', '2', '4', 'more', '4', '4', '2', '2', '4', '4', '2', '2', '2']\n",
      "['med', 'small', 'big', 'big', 'med', 'small', 'med', 'big', 'small', 'med', 'med', 'small', 'big', 'big', 'big', 'med', 'small', 'med', 'med', 'big', 'big', 'small', 'med', 'big', 'big', 'big', 'small', 'med', 'big', 'med', 'med', 'med', 'med', 'big', 'big']\n",
      "['low', 'high', 'low', 'high', 'med', 'low', 'high', 'med', 'low', 'low', 'med', 'high', 'med', 'low', 'med', 'high', 'low', 'high', 'high', 'med', 'high', 'high', 'med', 'low', 'low', 'low', 'low', 'med', 'low', 'med', 'high', 'med', 'low', 'high', 'high']\n",
      "['unacc', 'acc', 'unacc', 'acc', 'unacc', 'unacc', 'vgood', 'unacc', 'unacc', 'unacc', 'unacc', 'acc', 'acc', 'unacc', 'unacc', 'unacc', 'unacc', 'acc', 'vgood', 'unacc', 'unacc', 'unacc', 'unacc', 'unacc', 'unacc', 'unacc', 'unacc', 'unacc', 'unacc', 'unacc', 'acc', 'unacc', 'unacc', 'unacc', 'unacc']\n"
     ]
    }
   ],
   "source": [
    "# Read CSV again, extract seven attributes from each line of the file.\n",
    "# Create 7 lists of each rows from ReadCSV files and rename each lists and print out.\n",
    "# Print the result \n",
    "import csv\n",
    "with open (r\"C:\\Users\\13750\\Desktop\\yu\\DAV5400 Analytics Programming\\Assignment\\M_Yang_W2_assn\\M_Yang_W2_assn\\cars-sample35.txt\") as csvfile:\n",
    "    readCSV = csv.reader(csvfile)\n",
    "    Price_list = [] \n",
    "    Maint_list = [] \n",
    "    Door_list = [] \n",
    "    Passenger_list = [] \n",
    "    Luggage_list = [] \n",
    "    Safety_list = [] \n",
    "    Classification_list = []\n",
    "    for x in readCSV:\n",
    "       Price_list.append(x[0])\n",
    "       Maint_list.append(x[1])\n",
    "       Door_list.append(x[2])\n",
    "       Passenger_list.append(x[3])\n",
    "       Luggage_list.append(x[4])\n",
    "       Safety_list.append(x[5])\n",
    "       Classification_list.append(x[6])        \n",
    "print(Price_list)\n",
    "print(Maint_list)\n",
    "print(Door_list)\n",
    "print(Passenger_list)\n",
    "print(Luggage_list)\n",
    "print(Safety_list)\n",
    "print(Classification_list)"
   ]
  },
  {
   "cell_type": "markdown",
   "metadata": {},
   "source": [
    "### Task one: find the list index values of each automobile having a price rating of \"med\" by list comprehension.\n",
    " 1. create a new list, name A, shows the index values of Classification_list, contained price rating as 'med'.\n",
    " 2. print the result."
   ]
  },
  {
   "cell_type": "code",
   "execution_count": 11,
   "metadata": {},
   "outputs": [
    {
     "data": {
      "text/plain": [
       "[6, 16, 20, 23, 26, 29]"
      ]
     },
     "execution_count": 11,
     "metadata": {},
     "output_type": "execute_result"
    }
   ],
   "source": [
    "# x means the index values of Classification_list. \n",
    "A = [x for x in range(len(Classification_list))if Price_list[x] == 'med'] \n",
    "A"
   ]
  },
  {
   "cell_type": "markdown",
   "metadata": {},
   "source": [
    "### Task two: find the \"number of passengers\" value for each auto having a \"price\" value of \"med\"\n",
    "  1. read the CSV again.\n",
    "  2. make a condition that equal to 'med'.\n",
    "  3. create a new list, name B, shows the number of passengers of Passengers_list, contained price rating as 'med'.\n",
    "  4. print the result."
   ]
  },
  {
   "cell_type": "code",
   "execution_count": 36,
   "metadata": {},
   "outputs": [
    {
     "data": {
      "text/plain": [
       "['more', '2', '2', '2', '4', '2']"
      ]
     },
     "execution_count": 36,
     "metadata": {},
     "output_type": "execute_result"
    }
   ],
   "source": [
    "import csv\n",
    "with open (r\"C:\\Users\\13750\\Desktop\\yu\\DAV5400 Analytics Programming\\Assignment\\M_Yang_W2_assn\\M_Yang_W2_assn\\cars-sample35.txt\") as csvfile:\n",
    "    readCSV = csv.reader(csvfile)\n",
    "    sub = 'med'\n",
    "    B = [row[3] for row in readCSV if sub in row[0]]\n",
    "    # row[3] means Passengers_list and row[0] means Price_list.\n",
    "B"
   ]
  },
  {
   "cell_type": "markdown",
   "metadata": {},
   "source": [
    "### Task three: find the index value for each automobile having a price value of \"high\" and a maintenance value that is not \"low\"\n",
    "  1. create a new list, name C, shows the index values of Classification_list, contained price rating as 'high' and manintenence cost is not 'low'.\n",
    "  2. print the result."
   ]
  },
  {
   "cell_type": "code",
   "execution_count": 37,
   "metadata": {},
   "outputs": [
    {
     "data": {
      "text/plain": [
       "[0, 1, 2, 27, 31]"
      ]
     },
     "execution_count": 37,
     "metadata": {},
     "output_type": "execute_result"
    }
   ],
   "source": [
    "# x means the index values of Classification_list. \n",
    "C = [x for x in range(len(Classification_list)) if (Price_list[x] == 'high') & (Maint_list[x] != 'low')]\n",
    "C"
   ]
  },
  {
   "cell_type": "markdown",
   "metadata": {},
   "source": [
    "### Task four: implement this same logic using a list comprehension. Apply your list comprehension to the nlist list of lists shown above\n",
    "  1. create the nlist.\n",
    "  2. create a new list, name D, and make the numbers of the nlist jump out of the groups(lists) of the nlist.\n",
    "  3. print the result."
   ]
  },
  {
   "cell_type": "code",
   "execution_count": 39,
   "metadata": {},
   "outputs": [
    {
     "name": "stdout",
     "output_type": "stream",
     "text": [
      "[1, 2, 3, 4, 5, 6, 7, 8, 9]\n"
     ]
    }
   ],
   "source": [
    "# The Example:\n",
    "nlist = [[1,2,3],[4,5,6],[7,8,9]]\n",
    "# make the nlist do not contain any list insides by for loop. \n",
    "flist = []\n",
    "for x in nlist:\n",
    "    for y in x:\n",
    "        flist.append(y)\n",
    "print(flist)"
   ]
  },
  {
   "cell_type": "code",
   "execution_count": 15,
   "metadata": {},
   "outputs": [
    {
     "data": {
      "text/plain": [
       "[1, 2, 3, 4, 5, 6, 7, 8, 9]"
      ]
     },
     "execution_count": 15,
     "metadata": {},
     "output_type": "execute_result"
    }
   ],
   "source": [
    "# make the nlist do not contain any list insides by Nested List Comprehensions\n",
    "# x means the number of the nlist, y means the groups(lists) of the nlist. \n",
    "nlist = [[1,2,3],[4,5,6],[7,8,9]]\n",
    "D = [x for y in nlist for x in y]\n",
    "D\n"
   ]
  },
  {
   "cell_type": "markdown",
   "metadata": {},
   "source": [
    "### Task five: create two new dict objects containing the first seven elements of the ‘Price’ and ‘Luggage’ lists, respectively. Then, use these dict objects to tell us the price and luggage capacity of the auto identified by the ‘A4’ key value\n",
    "  1. read the CSV again(if I do not read, it will doesn't work for previous work- I don't know why)\n",
    "  2. extract the Price_list and Luggage_list\n",
    "  3. extract the first seven elevemts from Price_list and Luggage_list, respectively.\n",
    "  4. create a new list for the key value of the dict.\n",
    "  5. create a new list for packing the string from two list.\n",
    "  6. create a new list for changing list to be dict.\n",
    "  7. print the result.\n",
    "  8. check the price and luggage capacity by ‘A4'."
   ]
  },
  {
   "cell_type": "code",
   "execution_count": null,
   "metadata": {},
   "outputs": [],
   "source": []
  },
  {
   "cell_type": "code",
   "execution_count": 30,
   "metadata": {},
   "outputs": [
    {
     "name": "stdout",
     "output_type": "stream",
     "text": [
      "{'A0': 'high', 'A1': 'high', 'A2': 'high', 'A3': 'high', 'A4': 'vhigh', 'A5': 'low', 'A6': 'med'}\n"
     ]
    }
   ],
   "source": [
    "import csv\n",
    "with open (r\"C:\\Users\\13750\\Desktop\\yu\\DAV5400 Analytics Programming\\Assignment\\M_Yang_W2_assn\\M_Yang_W2_assn\\cars-sample35.txt\") as csvfile:\n",
    "    readCSV = csv.reader(csvfile)\n",
    "# row[0] means Price_list and row[4] means the luggage_list.\n",
    "    Price_list = [row[0] for row in readCSV] \n",
    "    Luggage_list = [row[4] for row in readCSV]\n",
    "# extract the first seven strings from Price_list by index value 0 to 6.\n",
    "    PLst = Price_list[0:7]\n",
    "    Key_of_dict = ['A0','A1','A2','A3','A4','A5','A6']\n",
    "# pack the PLst and Key_of_dict two list together string by string.\n",
    "    Key_PLst = zip(Key_of_dict,PLst)\n",
    "# make list to be dict\n",
    "    Price_dict = dict(Key_PLst)\n",
    "print(Price_dict)\n",
    "# The Price of the key value of \"A4\" is 'vhigh'."
   ]
  },
  {
   "cell_type": "code",
   "execution_count": 31,
   "metadata": {},
   "outputs": [
    {
     "name": "stdout",
     "output_type": "stream",
     "text": [
      "{'A0': 'med', 'A1': 'small', 'A2': 'big', 'A3': 'big', 'A4': 'med', 'A5': 'small', 'A6': 'med'}\n"
     ]
    }
   ],
   "source": [
    "import csv\n",
    "with open (r\"C:\\Users\\13750\\Desktop\\yu\\DAV5400 Analytics Programming\\Assignment\\M_Yang_W2_assn\\M_Yang_W2_assn\\cars-sample35.txt\") as csvfile:\n",
    "    readCSV = csv.reader(csvfile)\n",
    "# row[0] means Price_list and row[4] means the luggage_list.\n",
    "    Luggage_list = [row[4] for row in readCSV]\n",
    "# extract the first seven strings from Luggage_list by index value 0 to 6.\n",
    "    LLst = Luggage_list[0:7]\n",
    "    Key_of_dict = ['A0','A1','A2','A3','A4','A5','A6']\n",
    "# pack the LLst and Key_of_dict two list together string by string.\n",
    "    Key_LLst = zip(Key_of_dict,LLst)\n",
    "# make list to be dict\n",
    "    Luggage_dict = dict(Key_LLst)\n",
    "print(Luggage_dict)\n",
    "# The Luggage capacity of the key value of \"A4\" is 'med'."
   ]
  }
 ],
 "metadata": {
  "kernelspec": {
   "display_name": "Python 3",
   "language": "python",
   "name": "python3"
  },
  "language_info": {
   "codemirror_mode": {
    "name": "ipython",
    "version": 3
   },
   "file_extension": ".py",
   "mimetype": "text/x-python",
   "name": "python",
   "nbconvert_exporter": "python",
   "pygments_lexer": "ipython3",
   "version": "3.7.3"
  }
 },
 "nbformat": 4,
 "nbformat_minor": 2
}
