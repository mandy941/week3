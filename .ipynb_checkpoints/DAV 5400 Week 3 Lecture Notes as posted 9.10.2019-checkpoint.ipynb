{
 "cells": [
  {
   "cell_type": "markdown",
   "metadata": {},
   "source": [
    "## Assignment 2 Review\n",
    "\n",
    "Sample solutions for The Week 2 Assignment are posted on Canvas on the Week 2 Module's main page within a separate Jupyter Notebook. "
   ]
  },
  {
   "cell_type": "markdown",
   "metadata": {},
   "source": [
    "# Week 3: Python Data Structures + Functions\n",
    "\n",
    "## Lists, Tuples, Sets & Dictionaries\n",
    "\n",
    "### Lists\n",
    "\n",
    "- As we saw last week, a list is a collection of data values, the elements of which may or may not share the same data type.\n",
    "\n",
    "- Lists are \"mutable\", meaning the contents of a list object can be modified and reordered as needed.\n",
    "\n"
   ]
  },
  {
   "cell_type": "code",
   "execution_count": 1,
   "metadata": {},
   "outputs": [
    {
     "name": "stdout",
     "output_type": "stream",
     "text": [
      "[1, 2, 3, 4, 5, 6, 7, 8, 9, 10]\n"
     ]
    }
   ],
   "source": [
    "# how to create an empty list\n",
    "emptylist = []\n",
    "\n",
    "# example of a list containing data\n",
    "list1 = [1,2,3,4,5]\n",
    "list2 = [6,7,8,9,10]\n",
    "\n",
    "list3 = list1 + list2\n",
    "\n",
    "print(list3)"
   ]
  },
  {
   "cell_type": "code",
   "execution_count": 2,
   "metadata": {},
   "outputs": [
    {
     "name": "stdout",
     "output_type": "stream",
     "text": [
      "<class 'float'>\n",
      "<class 'str'>\n"
     ]
    }
   ],
   "source": [
    "# example of a list containing mixed data\n",
    "mixedlist = [1, 'far', 3.14159, 'pi']\n",
    "\n",
    "print(type(mixedlist[2]))\n",
    "print(type(mixedlist[3]))"
   ]
  },
  {
   "cell_type": "markdown",
   "metadata": {},
   "source": [
    "### Tuples\n",
    "\n",
    "- Fixed length, immutable sequence of Python objects: content __cannot__ be modified or reordered except when underlying items themselves __are__ mutable.\n",
    "\n",
    "\n",
    "- Can be composed of items of any data type or data structure\n",
    "\n",
    "\n",
    "- As a rule, use parentheses to enclose items when defining a tuple\n",
    "\n",
    "\n",
    "- Best for use with data that should generally not be alterable (e.g., a database key value).\n",
    "\n",
    "\n",
    "- Tuples can be processed faster than lists due to their immutable nature."
   ]
  },
  {
   "cell_type": "code",
   "execution_count": 3,
   "metadata": {},
   "outputs": [
    {
     "data": {
      "text/plain": [
       "tuple"
      ]
     },
     "execution_count": 3,
     "metadata": {},
     "output_type": "execute_result"
    }
   ],
   "source": [
    "# define a simple tuple\n",
    "\n",
    "tup1 = (1, 'leg', 2, 'arm', [47, 99])\n",
    "type(tup1)"
   ]
  },
  {
   "cell_type": "code",
   "execution_count": 4,
   "metadata": {},
   "outputs": [
    {
     "name": "stdout",
     "output_type": "stream",
     "text": [
      "[47, 99]\n"
     ]
    }
   ],
   "source": [
    "# access content via 0-based indices\n",
    "\n",
    "print(tup1[4])"
   ]
  },
  {
   "cell_type": "code",
   "execution_count": 5,
   "metadata": {},
   "outputs": [
    {
     "name": "stdout",
     "output_type": "stream",
     "text": [
      "(1, 'leg')\n"
     ]
    }
   ],
   "source": [
    "# like lists, tuples can be sliced\n",
    "\n",
    "print(tup1[0:2])"
   ]
  },
  {
   "cell_type": "code",
   "execution_count": 8,
   "metadata": {},
   "outputs": [
    {
     "name": "stdout",
     "output_type": "stream",
     "text": [
      "[33, 99]\n"
     ]
    }
   ],
   "source": [
    "# mutable objects inside a tuple CAN be modified in place\n",
    "tup1[4][0] = 33\n",
    "print(tup1[4])"
   ]
  },
  {
   "cell_type": "markdown",
   "metadata": {},
   "source": [
    "### Sets\n",
    "\n",
    "- A Python __set__ is an unordered set of distinct elements.\n",
    "\n",
    "\n",
    "- Sets allow for use of mathematical set operations, e.g., union, intersection, difference, subset test, superset test, etc.\n",
    "\n",
    "\n",
    "- Contents of a set can be altered, but adding a duplicate of an existing element results in no change to the set.\n",
    "\n",
    "\n",
    "- Sets can be created either by passing a list to the __set()__ function or via curly brackets '{}'. However, for clarity it's best to use the __set()__ function."
   ]
  },
  {
   "cell_type": "code",
   "execution_count": 12,
   "metadata": {},
   "outputs": [
    {
     "data": {
      "text/plain": [
       "{1, 3.14, 'A', 'B', 'K', 'pi'}"
      ]
     },
     "execution_count": 12,
     "metadata": {},
     "output_type": "execute_result"
    }
   ],
   "source": [
    "# 2 ways to define a set\n",
    "set1 = set(['A', 1, 'K', 3.14])\n",
    "\n",
    "set2 = {1, 'B', 'pi', 3.14}\n",
    "\n",
    "# get the union of 2 sets\n",
    "set1.union(set2)"
   ]
  },
  {
   "cell_type": "code",
   "execution_count": 14,
   "metadata": {},
   "outputs": [
    {
     "data": {
      "text/plain": [
       "{1, 3.14}"
      ]
     },
     "execution_count": 14,
     "metadata": {},
     "output_type": "execute_result"
    }
   ],
   "source": [
    "# get the intersection of 2 sets\n",
    "set1.intersection(set2)"
   ]
  },
  {
   "cell_type": "code",
   "execution_count": 15,
   "metadata": {},
   "outputs": [
    {
     "data": {
      "text/plain": [
       "True"
      ]
     },
     "execution_count": 15,
     "metadata": {},
     "output_type": "execute_result"
    }
   ],
   "source": [
    "# test for subset\n",
    "set3 = {1}\n",
    "\n",
    "set3.issubset(set2)"
   ]
  },
  {
   "cell_type": "code",
   "execution_count": 16,
   "metadata": {},
   "outputs": [
    {
     "data": {
      "text/plain": [
       "True"
      ]
     },
     "execution_count": 16,
     "metadata": {},
     "output_type": "execute_result"
    }
   ],
   "source": [
    "# test for superset\n",
    "set1.issuperset(set3)"
   ]
  },
  {
   "cell_type": "markdown",
   "metadata": {},
   "source": [
    "### Dictionaries (aka \"dicts\")\n",
    "\n",
    "- dicts are collections of \"key:value\" pairs where both the 'key' and 'value' are themselves Python objects.\n",
    "\n",
    "\n",
    "- Use when you have a set of unique keys that map to values\n",
    "\n",
    "\n",
    "- dicts can provide faster access to data than lists, but are not as easy to work with as lists.\n",
    "\n",
    "\n",
    "- Create a dict using curly brackets {}"
   ]
  },
  {
   "cell_type": "code",
   "execution_count": 18,
   "metadata": {},
   "outputs": [
    {
     "name": "stdout",
     "output_type": "stream",
     "text": [
      "{'name': 'John Doe', 'address': '749 West 42nd St', 'zip': 11001}\n"
     ]
    }
   ],
   "source": [
    "# create a dict object\n",
    "dict1 = {'name': 'John Doe', 'address': '749 West 42nd St', 'zip': 11001}\n",
    "\n",
    "print(dict1)"
   ]
  },
  {
   "cell_type": "code",
   "execution_count": 19,
   "metadata": {},
   "outputs": [
    {
     "data": {
      "text/plain": [
       "'John Doe'"
      ]
     },
     "execution_count": 19,
     "metadata": {},
     "output_type": "execute_result"
    }
   ],
   "source": [
    "# access values by their key\n",
    "dict1['name']"
   ]
  },
  {
   "cell_type": "code",
   "execution_count": 20,
   "metadata": {},
   "outputs": [
    {
     "name": "stdout",
     "output_type": "stream",
     "text": [
      "{'name': 'Jane Smith', 'address': '749 West 42nd St', 'zip': 11001}\n"
     ]
    }
   ],
   "source": [
    "# modify a value in a dict\n",
    "dict1['name'] = 'Jane Smith'\n",
    "print(dict1)"
   ]
  },
  {
   "cell_type": "markdown",
   "metadata": {},
   "source": [
    "## List, Set, Dict Comprehensions & Generators\n",
    "\n",
    "What are 'comprehensions' in Python?\n",
    "\n",
    "From the author of \"A Whirlwind Tour of Python\":\n",
    "\n",
    "*'Comprehensions are simply a way to compress a list-building for-loop into a single short, readable line.'*\n",
    "\n",
    "\n",
    "An example from his book:"
   ]
  },
  {
   "cell_type": "code",
   "execution_count": 21,
   "metadata": {},
   "outputs": [
    {
     "data": {
      "text/plain": [
       "[0, 1, 4, 9, 16, 25, 36, 49, 64, 81, 100, 121]"
      ]
     },
     "execution_count": 21,
     "metadata": {},
     "output_type": "execute_result"
    }
   ],
   "source": [
    "# for loop used to build a list\n",
    "L = []\n",
    "for n in range(12):\n",
    "    L.append(n ** 2)\n",
    "L"
   ]
  },
  {
   "cell_type": "code",
   "execution_count": 23,
   "metadata": {},
   "outputs": [
    {
     "data": {
      "text/plain": [
       "[0, 1, 4, 9, 16, 25, 36, 49, 64, 81, 100, 121]"
      ]
     },
     "execution_count": 23,
     "metadata": {},
     "output_type": "execute_result"
    }
   ],
   "source": [
    "# and the list comprehension equivalent\n",
    "\n",
    "L = [n ** 2 for n in range(12)]\n",
    "L"
   ]
  },
  {
   "cell_type": "markdown",
   "metadata": {},
   "source": [
    "### Using Conditionals Within a Comprehension\n",
    "\n",
    "What if you need to include an __if__ statement in your loop?"
   ]
  },
  {
   "cell_type": "code",
   "execution_count": 25,
   "metadata": {},
   "outputs": [
    {
     "data": {
      "text/plain": [
       "[1, 2, 4, 5, 7, 8, 10, 11, 13, 14, 16, 17, 19]"
      ]
     },
     "execution_count": 25,
     "metadata": {},
     "output_type": "execute_result"
    }
   ],
   "source": [
    "# for loop with if statement testing the value of the iterator\n",
    "L = []\n",
    "for val in range(20):\n",
    "    if val % 3:\n",
    "        L.append(val)\n",
    "L"
   ]
  },
  {
   "cell_type": "code",
   "execution_count": null,
   "metadata": {},
   "outputs": [],
   "source": [
    "# same logic as cell above but using a 1 line comprehension\n",
    "L = [val for val in range(20) if val % 3 > 0]\n",
    "L"
   ]
  },
  {
   "cell_type": "markdown",
   "metadata": {},
   "source": [
    "### Set Comprehensions\n",
    "\n",
    "- Creates a set comprised of iterative values in one line of code\n",
    "\n",
    "\n",
    "- A set comprehension will automatically eliminate any duplicate values generated by the iterator you specify"
   ]
  },
  {
   "cell_type": "code",
   "execution_count": 26,
   "metadata": {},
   "outputs": [
    {
     "data": {
      "text/plain": [
       "{0, 1, 4, 9, 16, 25, 36, 49, 64, 81, 100, 121}"
      ]
     },
     "execution_count": 26,
     "metadata": {},
     "output_type": "execute_result"
    }
   ],
   "source": [
    "set5 = {n**2 for n in range(12)}\n",
    "set5"
   ]
  },
  {
   "cell_type": "markdown",
   "metadata": {},
   "source": [
    "### Dict Comprehensions\n",
    "\n",
    "- Automatically create a dict object comprised of iterative values\n"
   ]
  },
  {
   "cell_type": "code",
   "execution_count": 27,
   "metadata": {},
   "outputs": [
    {
     "data": {
      "text/plain": [
       "{0: 0, 1: 1, 2: 4, 3: 9, 4: 16, 5: 25}"
      ]
     },
     "execution_count": 27,
     "metadata": {},
     "output_type": "execute_result"
    }
   ],
   "source": [
    "dict5 = {n:n**2 for n in range(6)}\n",
    "dict5"
   ]
  },
  {
   "cell_type": "markdown",
   "metadata": {},
   "source": [
    "### Generators\n",
    "\n",
    "- Generators are comprehensions that create an \"as needed\" iterator. Sometimes referred to as a \"recipe for producing iterative values\".\n",
    "\n",
    "\n",
    "- Generators save memory space by not requiring you to store every value you want to iterate over.\n",
    "\n",
    "\n",
    "- When you need the next iterative value in your sequence, simply invoke the generator\n",
    "\n",
    "\n",
    "- Downside of generators is they can only be iterated through __once__!! If you need to iterate through the same set of values again, you need to define the generator all over again."
   ]
  },
  {
   "cell_type": "code",
   "execution_count": 28,
   "metadata": {},
   "outputs": [
    {
     "data": {
      "text/plain": [
       "[0, 1, 4, 9, 16, 25, 36, 49, 64, 81, 100, 121]"
      ]
     },
     "execution_count": 28,
     "metadata": {},
     "output_type": "execute_result"
    }
   ],
   "source": [
    "# define a generator and print its contents\n",
    "G = (n ** 2 for n in range(12))\n",
    "list(G)\n",
    "\n",
    "# after printing the values from the generator G, we have exhausted G \n",
    "# as a generator and cannot use it again without re-declaring it."
   ]
  },
  {
   "cell_type": "code",
   "execution_count": 31,
   "metadata": {},
   "outputs": [
    {
     "name": "stdout",
     "output_type": "stream",
     "text": [
      "0 1 4 9 16 25 36 49 64 81 100 121 "
     ]
    }
   ],
   "source": [
    "# generator 'G' above was used up, so we need to specify a new one\n",
    "G = (n**2 for n in range(12))\n",
    "for val in G:\n",
    "    print(val, end=' ')"
   ]
  },
  {
   "cell_type": "markdown",
   "metadata": {},
   "source": [
    "## Functions\n",
    "\n",
    "- Functions are the fundamental method of code organization and reuse within the realm of software development.\n",
    "\n",
    "\n",
    "- They provide the developer with a way to encapsulate an algorithm within a reusable, \"callable\" code block.\n",
    "\n",
    "\n",
    "- One of their primary uses is for purposes of avoiding the unneccessary repetition of code within a program. (__DRY!!!__)\n",
    "\n",
    "\n",
    "- Careful use of functions can make your code __much__ more readable + understandable to others.\n",
    "\n",
    "\n",
    "- Functions can be written to accept user-defined 'arguments'. Arguments are simply data values or data structures that you want the function to use as part of its processing.\n",
    "\n",
    "\n",
    "Example of how to define a function (from \"*A Whirlwind Tour of Python*\"):"
   ]
  },
  {
   "cell_type": "code",
   "execution_count": 1,
   "metadata": {},
   "outputs": [],
   "source": [
    "# defining a function that returns the first N fibonacci numbers\n",
    "def fibonacci(N):\n",
    "    L = []\n",
    "    a, b = 0, 1\n",
    "    while len(L) < N:\n",
    "        a, b = b, a + b\n",
    "        L.append(a)\n",
    "    return L"
   ]
  },
  {
   "cell_type": "markdown",
   "metadata": {},
   "source": [
    "Now we have a function named \"fibonacci' that accepts a single argument 'N' where 'N' is the number of fibonacci numbers you want to find, and returns a list of those N fibonacci numbers.\n",
    "\n",
    "Once we've defined a function, we can invoke it within our code:"
   ]
  },
  {
   "cell_type": "code",
   "execution_count": 2,
   "metadata": {},
   "outputs": [
    {
     "data": {
      "text/plain": [
       "[1, 1, 2, 3, 5, 8, 13, 21, 34, 55]"
      ]
     },
     "execution_count": 2,
     "metadata": {},
     "output_type": "execute_result"
    }
   ],
   "source": [
    "# get the first 10 fibonacci numbers\n",
    "fibonacci(10)"
   ]
  },
  {
   "cell_type": "markdown",
   "metadata": {},
   "source": [
    "### Returning Multiple Values From a Function"
   ]
  },
  {
   "cell_type": "code",
   "execution_count": 1,
   "metadata": {},
   "outputs": [
    {
     "name": "stdout",
     "output_type": "stream",
     "text": [
      "3 5 7\n"
     ]
    }
   ],
   "source": [
    "# returning multiple values from a function\n",
    "def f():\n",
    "    a = 3\n",
    "    b = 5\n",
    "    c = 7\n",
    "    return(a, b, c)\n",
    "\n",
    "x, y, z = f()\n",
    "\n",
    "print(x, y, z)"
   ]
  },
  {
   "cell_type": "code",
   "execution_count": 4,
   "metadata": {},
   "outputs": [
    {
     "name": "stdout",
     "output_type": "stream",
     "text": [
      "(3, 5, 7)\n",
      "5\n"
     ]
    }
   ],
   "source": [
    "# multiple return values are actually returned as a tuple\n",
    "ftup = f()\n",
    "print(ftup)\n",
    "\n",
    "# access the tuple item having an integer index value of 1\n",
    "print(ftup[1])"
   ]
  },
  {
   "cell_type": "markdown",
   "metadata": {},
   "source": [
    "### Default Values for Function Arguments\n",
    "\n",
    "- You can specify a default value for any function argument\n",
    "\n",
    "\n",
    "- Allows the function to be invoked without any explicit arguments"
   ]
  },
  {
   "cell_type": "code",
   "execution_count": 3,
   "metadata": {},
   "outputs": [
    {
     "data": {
      "text/plain": [
       "[1, 1, 2]"
      ]
     },
     "execution_count": 3,
     "metadata": {},
     "output_type": "execute_result"
    }
   ],
   "source": [
    "# Set N=3 as default value if no value is passed in\n",
    "def fibonacci_wd(N = 3):\n",
    "    L = []\n",
    "    a, b = 0, 1\n",
    "    while len(L) < N:\n",
    "        a, b = b, a + b\n",
    "        L.append(a)\n",
    "    return L\n",
    "\n",
    "fibonacci_wd()"
   ]
  },
  {
   "cell_type": "markdown",
   "metadata": {},
   "source": [
    "### Doc Strings\n",
    "\n",
    "- A 'doc string' is simply an extended comment provided at the beginning of a function that explains the purpose + functionality of the function.\n",
    "\n",
    "\n",
    "- The doc string for a function is displayed for introspection purposes when requested by a user (see example below)\n",
    "\n",
    "\n",
    "- Get in the habit of providing a doc string for each function you write !!\n",
    "\n",
    "\n",
    "- An example:"
   ]
  },
  {
   "cell_type": "code",
   "execution_count": 2,
   "metadata": {},
   "outputs": [
    {
     "data": {
      "text/plain": [
       "[1, 1, 2]"
      ]
     },
     "execution_count": 2,
     "metadata": {},
     "output_type": "execute_result"
    }
   ],
   "source": [
    "# Set N=3 as default value if no value is passed in\n",
    "def fibonacci_wd(N = 3):\n",
    "    '''this function finds the first N fibonacci numbers\n",
    "    - if no value for N is provided, N is defaulted to the value of 3\n",
    "    - The function generates a list of integers which is returned to the\n",
    "    - user. '''\n",
    "    \n",
    "    L = []\n",
    "    a, b = 0, 1\n",
    "    while len(L) < N:\n",
    "        a, b = b, a + b\n",
    "        L.append(a)\n",
    "    return L\n",
    "\n",
    "fibonacci_wd()"
   ]
  },
  {
   "cell_type": "code",
   "execution_count": 3,
   "metadata": {},
   "outputs": [],
   "source": [
    "# display the docstring via introspection\n",
    "fibonacci_wd?"
   ]
  },
  {
   "cell_type": "markdown",
   "metadata": {},
   "source": [
    "### \"Anonymous\", aka \"lambda\" Functions\n",
    "\n",
    "- Short, single-line functions defined via Python's __lambda__ statement.\n",
    "\n",
    "\n",
    "- Sometimes can make code more readable, sometimes not\n",
    "\n",
    "\n",
    "- Why use them? Readability OR if you want to pass a simple function as a parameter to a function you've written. \n",
    "\n",
    "\n",
    "- See \"*A Whirlwind Tour of Python*\" for a good example of using a lambda function to help sort the contents of a __dict__ object."
   ]
  },
  {
   "cell_type": "code",
   "execution_count": 4,
   "metadata": {},
   "outputs": [
    {
     "data": {
      "text/plain": [
       "3"
      ]
     },
     "execution_count": 4,
     "metadata": {},
     "output_type": "execute_result"
    }
   ],
   "source": [
    "# simple lambda function\n",
    "add = lambda x, y: x + y\n",
    "add(1, 2)"
   ]
  },
  {
   "cell_type": "code",
   "execution_count": null,
   "metadata": {},
   "outputs": [],
   "source": [
    "# lambda function shown above is equivalent of this:\n",
    "def add(x, y):\n",
    "    return x + y"
   ]
  },
  {
   "cell_type": "markdown",
   "metadata": {},
   "source": [
    "Example from \"*A Whirlwind Tour of Python*\"\n",
    "\n",
    "https://nbviewer.jupyter.org/github/jakevdp/WhirlwindTourOfPython/blob/master/08-Defining-Functions.ipynb"
   ]
  },
  {
   "cell_type": "markdown",
   "metadata": {},
   "source": [
    "### \"Hands On\" Exercises\n",
    "\n",
    "#### Part 1\n",
    "\n",
    "Write a function that determine whether or not a driver has been speeding. The function should have a single argument: the speed they were driving (we'll assume it's in KM per hour, not miles per hour).\n",
    "\n",
    "- If their speed is less than 70km per hr, return a value of 'OK'\n",
    "\n",
    "\n",
    "- If their speed is greater than 70km per hr, for every 5km above the speed limit(70), the driver earns 1 demerit point. Return the total number of demerit points in the form of a string, e.g., if the driver's speed was 85km per hr, return \"Points: 3\"\n",
    "\n",
    "\n",
    "- If the total number of demerit points exceeds 6, the function should return \"License Suspended\""
   ]
  },
  {
   "cell_type": "code",
   "execution_count": 2,
   "metadata": {},
   "outputs": [
    {
     "name": "stdout",
     "output_type": "stream",
     "text": [
      "OK Points: 3 License Suspended\n"
     ]
    }
   ],
   "source": [
    "# Sample Part 1 solution\n",
    "def points(speed):\n",
    "    if speed <= 70:\n",
    "        return \"OK\"\n",
    "    elif (speed-70)//5 > 6:\n",
    "        return \"License Suspended\"\n",
    "    elif (speed-70)//5 <= 6:\n",
    "        return f'Points: {(speed-70)//5}'\n",
    "    \n",
    "print(points(10), points(85), points(30000))"
   ]
  },
  {
   "cell_type": "code",
   "execution_count": 1,
   "metadata": {},
   "outputs": [
    {
     "name": "stdout",
     "output_type": "stream",
     "text": [
      "OK ('Points', 5) Lincense Suspended\n"
     ]
    }
   ],
   "source": [
    "# Sample Part 1 Solution (Alternative approach)\n",
    "\n",
    "def Speed_check(N):\n",
    "    if N <= 70:\n",
    "        return('OK') \n",
    "    if N > 70:\n",
    "        demerit = (N-70)//5\n",
    "    if demerit > 6:\n",
    "        return ('License Suspended')\n",
    "    else:\n",
    "        return ('Points',demerit)\n",
    "\n",
    "print(Speed_check(70),Speed_check(95),Speed_check(110))"
   ]
  },
  {
   "cell_type": "markdown",
   "metadata": {},
   "source": [
    "#### A Part 1 solution that makes use of Python's 'format()' function"
   ]
  },
  {
   "cell_type": "code",
   "execution_count": null,
   "metadata": {},
   "outputs": [],
   "source": [
    "# Part 1 Solution that includes the 'format()' function\n",
    "def demerit_point(x):\n",
    "    if x <= 70:\n",
    "        print(\"OK\")\n",
    "    if 70 < x:\n",
    "        points = \"Points:{}\".format((x-70)//5)\n",
    "        print(points)\n",
    "    if ((x-70)//5) > 6:\n",
    "        print(\"License Suspended\")\n",
    "return"
   ]
  },
  {
   "cell_type": "markdown",
   "metadata": {},
   "source": [
    "#### Part 2\n",
    "\n",
    "Write a function that tests whether a number is a prime number. It should accept one argument: the number you are testing. It should return a Boolean value indicating whether or not the number is a prime number."
   ]
  },
  {
   "cell_type": "code",
   "execution_count": 3,
   "metadata": {},
   "outputs": [],
   "source": [
    "# Part 2 Sample Solution\n",
    "def is_Prime(num):\n",
    "    if num > 2:\n",
    "        for i in range(2,num):\n",
    "            if not num % i:\n",
    "                return False\n",
    "    if num >0:\n",
    "        return True"
   ]
  },
  {
   "cell_type": "code",
   "execution_count": 4,
   "metadata": {},
   "outputs": [
    {
     "data": {
      "text/plain": [
       "False"
      ]
     },
     "execution_count": 4,
     "metadata": {},
     "output_type": "execute_result"
    }
   ],
   "source": [
    "is_Prime(4)"
   ]
  },
  {
   "cell_type": "code",
   "execution_count": 10,
   "metadata": {},
   "outputs": [
    {
     "data": {
      "text/plain": [
       "True"
      ]
     },
     "execution_count": 10,
     "metadata": {},
     "output_type": "execute_result"
    }
   ],
   "source": [
    "is_Prime(101)"
   ]
  },
  {
   "cell_type": "code",
   "execution_count": 11,
   "metadata": {},
   "outputs": [],
   "source": [
    "is_Prime(-1)"
   ]
  },
  {
   "cell_type": "code",
   "execution_count": null,
   "metadata": {},
   "outputs": [],
   "source": [
    "# Part 2 Sample Solution (alternative)\n",
    "def prime(num):\n",
    "    if num > 1:\n",
    "        for i in range(2,num):\n",
    "            if (num % i) ==0:\n",
    "                print(\"False\")\n",
    "                break\n",
    "        else:\n",
    "            print(\"True\")"
   ]
  }
 ],
 "metadata": {
  "kernelspec": {
   "display_name": "Python 3",
   "language": "python",
   "name": "python3"
  },
  "language_info": {
   "codemirror_mode": {
    "name": "ipython",
    "version": 3
   },
   "file_extension": ".py",
   "mimetype": "text/x-python",
   "name": "python",
   "nbconvert_exporter": "python",
   "pygments_lexer": "ipython3",
   "version": "3.7.3"
  }
 },
 "nbformat": 4,
 "nbformat_minor": 2
}
